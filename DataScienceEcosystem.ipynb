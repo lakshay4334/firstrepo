{
 "cells": [
  {
   "cell_type": "markdown",
   "id": "9059873f-7c31-41df-bfa2-17c34c7b2bfc",
   "metadata": {},
   "source": [
    "# Data Science Tools and Ecosystem"
   ]
  },
  {
   "cell_type": "markdown",
   "id": "75cade33-3c49-4fdb-b108-ca89d6e06d8b",
   "metadata": {},
   "source": [
    "In this notebook, Data Science Tools and Ecosystem are summarized."
   ]
  },
  {
   "cell_type": "markdown",
   "id": "d529d4d3-d6d6-4672-906f-6ec1f53a9719",
   "metadata": {},
   "source": [
    "**Objectives:**\n",
    "- List popular languages for Data Science\n",
    "- Coomonly used libraries used by data scientists\n",
    "- Arithmetic Expressions\n",
    "- Conerting minutes to hrs"
   ]
  },
  {
   "cell_type": "markdown",
   "id": "1f14b191-efe9-4bde-8e60-40c835235c5c",
   "metadata": {},
   "source": [
    "Some of the popular languages that Data Scientists use are:\n",
    "1. Python\n",
    "2. Scala\n",
    "3. R\n",
    "4. Java\n",
    "5. C++"
   ]
  },
  {
   "cell_type": "markdown",
   "id": "ef5b3049-2dd3-43c9-8a39-3ddba53a8a92",
   "metadata": {},
   "source": [
    "Some of the commonly used libraries used by Data Scientists include:\n",
    "1. ggplot\n",
    "2. pandas\n",
    "3. numpy\n",
    "4. matplotlib\n",
    "5. sklearn"
   ]
  },
  {
   "cell_type": "markdown",
   "id": "8a937344-d714-4be2-81bc-48ec6f61da99",
   "metadata": {},
   "source": [
    "| Data Science Tools |\n",
    "| ------------------ |\n",
    "| Jupyter Labs       |\n",
    "| Jupyter Notebooks  |\n",
    "| RStudio            |\n",
    "| Microsoft VS Code  |"
   ]
  },
  {
   "cell_type": "markdown",
   "id": "02ae0eb4-a332-49ce-b3ab-b11fb1e991d7",
   "metadata": {},
   "source": [
    "### Below are a few examples of evaluating arithmetic expressions in Python\n",
    "- 2+3\n",
    "- 4*5\n",
    "- 6/2"
   ]
  },
  {
   "cell_type": "code",
   "execution_count": 7,
   "id": "8094edd7-8398-48f4-95c1-e35c26801baa",
   "metadata": {},
   "outputs": [
    {
     "data": {
      "text/plain": [
       "17"
      ]
     },
     "execution_count": 7,
     "metadata": {},
     "output_type": "execute_result"
    }
   ],
   "source": [
    "#This a simple arithmetic expression to mutiply then add integers\n",
    "(3*4)+5"
   ]
  },
  {
   "cell_type": "code",
   "execution_count": 6,
   "id": "23f42630-1b3c-4fd5-9198-47e1e38cbded",
   "metadata": {},
   "outputs": [],
   "source": [
    "#This will convert 200 minutes to hours by diving by 60\n",
    "def convertMinutesToHrs(x):\n",
    "    x = x/60\n",
    "    return str(x) + \"hrs\""
   ]
  },
  {
   "cell_type": "code",
   "execution_count": 5,
   "id": "3612aeaf-e6a6-4dc3-b69c-ffcfdb203959",
   "metadata": {},
   "outputs": [
    {
     "data": {
      "text/plain": [
       "'3.3333333333333335hrs'"
      ]
     },
     "execution_count": 5,
     "metadata": {},
     "output_type": "execute_result"
    }
   ],
   "source": [
    "convertMinutesToHrs(200)"
   ]
  },
  {
   "cell_type": "markdown",
   "id": "865ba177-f221-4160-9e3f-8281aa6aca11",
   "metadata": {},
   "source": [
    "## Author\n",
    "Lakshay Gupta"
   ]
  },
  {
   "cell_type": "code",
   "execution_count": null,
   "id": "d79f7cef-10e4-4c9d-9f86-6b2eee80412b",
   "metadata": {},
   "outputs": [],
   "source": []
  }
 ],
 "metadata": {
  "kernelspec": {
   "display_name": "Python 3 (ipykernel)",
   "language": "python",
   "name": "python3"
  },
  "language_info": {
   "codemirror_mode": {
    "name": "ipython",
    "version": 3
   },
   "file_extension": ".py",
   "mimetype": "text/x-python",
   "name": "python",
   "nbconvert_exporter": "python",
   "pygments_lexer": "ipython3",
   "version": "3.11.7"
  }
 },
 "nbformat": 4,
 "nbformat_minor": 5
}
